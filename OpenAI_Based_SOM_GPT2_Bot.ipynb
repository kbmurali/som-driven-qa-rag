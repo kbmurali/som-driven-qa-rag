{
 "cells": [
  {
   "cell_type": "raw",
   "id": "731e517c-7bc7-4499-9fe8-00f1599f42f0",
   "metadata": {},
   "source": [
    "'''\n",
    "------------------------------------------------------------------------------\n",
    "   Copyright 2024 Murali Kashaboina\n",
    "\n",
    "   Licensed under the Apache License, Version 2.0 (the \"License\");\n",
    "   you may not use this file except in compliance with the License.\n",
    "   You may obtain a copy of the License at\n",
    "\n",
    "       http://www.apache.org/licenses/LICENSE-2.0\n",
    "\n",
    "   Unless required by applicable law or agreed to in writing, software\n",
    "   distributed under the License is distributed on an \"AS IS\" BASIS,\n",
    "   WITHOUT WARRANTIES OR CONDITIONS OF ANY KIND, either express or implied.\n",
    "   See the License for the specific language governing permissions and\n",
    "   limitations under the License.\n",
    "------------------------------------------------------------------------------\n",
    "'''"
   ]
  },
  {
   "cell_type": "code",
   "execution_count": 1,
   "id": "db98a99a-85f3-4312-b038-5f64c254101f",
   "metadata": {},
   "outputs": [],
   "source": [
    "import warnings\n",
    "\n",
    "warnings.simplefilter(\"ignore\")\n",
    "\n",
    "import torch\n",
    "\n",
    "from som_based_rag import SOM_Based_RAG_Util\n",
    "\n",
    "from wiki_datasource import WikiEventsDataSource\n",
    "\n",
    "from openai_vector_encoder import OpenAIEmbeddingsVectorEncoder\n",
    "\n",
    "from openai_qa_chatbot import OpenAIQuestionAnswerChatBot"
   ]
  },
  {
   "cell_type": "code",
   "execution_count": 2,
   "id": "d655453b-0e4f-4216-8987-7e9f5f72f8b9",
   "metadata": {},
   "outputs": [],
   "source": [
    "device = 'cuda' if torch.cuda.is_available() else 'cpu'"
   ]
  },
  {
   "cell_type": "code",
   "execution_count": 3,
   "id": "3bc95728-72f5-4c19-a9e5-091d402ea0c1",
   "metadata": {},
   "outputs": [],
   "source": [
    "openai_key = \"YOUR KEY GOES HERE\"\n",
    "\n",
    "openai_vector_encoder_id = \"text-embedding-ada-002\"\n",
    "\n",
    "openai_encoded_vector_dimensions = 1536\n",
    "\n",
    "openai_tokenizer_name = \"cl100k_base\" \n",
    "\n",
    "openai_model_name = \"gpt-3.5-turbo-instruct\"\n",
    "\n",
    "vector_encoder = OpenAIEmbeddingsVectorEncoder( openai_encoded_vector_dimensions, openai_vector_encoder_id, openai_key )"
   ]
  },
  {
   "cell_type": "code",
   "execution_count": 4,
   "id": "df6c5da9-c735-4de4-9dcd-cc5acff04125",
   "metadata": {},
   "outputs": [],
   "source": [
    "event_years_to_fetch = [ 2022, 2023, 2024 ]\n",
    "data_source = WikiEventsDataSource( event_years_to_fetch  )"
   ]
  },
  {
   "cell_type": "code",
   "execution_count": 5,
   "id": "50a977b7-28d3-4cc0-8461-072aa7e3f123",
   "metadata": {},
   "outputs": [],
   "source": [
    "som_driven_rag_util = SOM_Based_RAG_Util( \n",
    "                                            vector_encoder = vector_encoder,\n",
    "                                            som_lattice_height = 20,\n",
    "                                            som_lattice_width = 30,\n",
    "                                            learning_rate = 0.3,\n",
    "                                            topk_bmu_for_indexing = 10, #about 3% of the lattice grid size => 20 x 30 = 600\n",
    "                                            device = device\n",
    "                                        )"
   ]
  },
  {
   "cell_type": "code",
   "execution_count": 6,
   "id": "4d466bc1-882b-46b6-9d0f-d5e480344fb9",
   "metadata": {},
   "outputs": [
    {
     "data": {
      "application/vnd.jupyter.widget-view+json": {
       "model_id": "abeeae6b33394bf09d91731ac229b9bf",
       "version_major": 2,
       "version_minor": 0
      },
      "text/plain": [
       "Vectorized Data Batch:   0%|          | 0/5 [00:00<?, ?it/s]"
      ]
     },
     "metadata": {},
     "output_type": "display_data"
    }
   ],
   "source": [
    "som_driven_rag_util.load_n_vectorize_data( data_source )"
   ]
  },
  {
   "cell_type": "code",
   "execution_count": 7,
   "id": "f03b9b4e-7213-42a4-9621-7dc421d9f3ad",
   "metadata": {},
   "outputs": [
    {
     "data": {
      "text/plain": [
       "torch.Size([458, 1536])"
      ]
     },
     "execution_count": 7,
     "metadata": {},
     "output_type": "execute_result"
    }
   ],
   "source": [
    "som_driven_rag_util.vectors.shape"
   ]
  },
  {
   "cell_type": "code",
   "execution_count": 8,
   "id": "83ca31b5-c2d1-41d8-b797-f0cd557a0d1f",
   "metadata": {},
   "outputs": [
    {
     "data": {
      "application/vnd.jupyter.widget-view+json": {
       "model_id": "48422aba859f407f906e67d641e5fadb",
       "version_major": 2,
       "version_minor": 0
      },
      "text/plain": [
       "Kohonen's SOM Train Epochs:   0%|          | 0/100 [00:00<?, ?it/s]"
      ]
     },
     "metadata": {},
     "output_type": "display_data"
    },
    {
     "data": {
      "application/vnd.jupyter.widget-view+json": {
       "model_id": "7a02f6b3e0c9461aa8cfcdf65690c349",
       "version_major": 2,
       "version_minor": 0
      },
      "text/plain": [
       "SOM-Based Indexed Vectors:   0%|          | 0/458 [00:00<?, ?it/s]"
      ]
     },
     "metadata": {},
     "output_type": "display_data"
    }
   ],
   "source": [
    "som_driven_rag_util.train_n_index_data_vectors( train_epochs = 100 )"
   ]
  },
  {
   "cell_type": "code",
   "execution_count": 9,
   "id": "b2d985a5-f6db-497d-b809-0d0e10269cc8",
   "metadata": {},
   "outputs": [
    {
     "data": {
      "text/plain": [
       "[{'text': 'October 28, 2022 – Elon Musk completes his $44 billion acquisition of Twitter.',\n",
       "  'sim_score': 0.8670649528503418},\n",
       " {'text': 'April 25, 2022 – Elon Musk reaches an agreement to acquire the social media network Twitter (which he later rebrands as X) for $44 billion USD, which later closes in October.',\n",
       "  'sim_score': 0.8498020768165588}]"
      ]
     },
     "execution_count": 9,
     "metadata": {},
     "output_type": "execute_result"
    }
   ],
   "source": [
    "som_driven_rag_util.find_semantically_similar_data( \"Who aquired Twitter in 2022?\", sim_threshold = 0.8 )"
   ]
  },
  {
   "cell_type": "code",
   "execution_count": 10,
   "id": "9f8d25b4-8737-4a26-a3e7-3168db4090f0",
   "metadata": {},
   "outputs": [],
   "source": [
    "openai_chatbot = OpenAIQuestionAnswerChatBot( \n",
    "                                                vector_db_util = som_driven_rag_util,\n",
    "                                                openai_tokenizer_name = openai_tokenizer_name,\n",
    "                                                openai_model_name = openai_model_name,\n",
    "                                                openai_key = openai_key,\n",
    "                                                question_input_max_token_count = 100,\n",
    "                                                context_trim_percent = 0.1,\n",
    "                                                device = device\n",
    "                                            )"
   ]
  },
  {
   "cell_type": "code",
   "execution_count": 11,
   "id": "f9872300-f18e-4ca6-b488-63ba76f170bd",
   "metadata": {},
   "outputs": [],
   "source": [
    "sample_questions = [\n",
    "                        \"Who won the 2022 soccer world cup?\",\n",
    "                        \"When did Sweden join NATO?\",\n",
    "                        \"Who joined NATO in 2023?\",\n",
    "                        \"Who joined NATO in 2024?\",\n",
    "                        \"Which is the 31st member of NATO?\",\n",
    "                        \"Which is the 32nd member of NATO?\",\n",
    "                        \"Who won the Cricket World Cup in 2023?\",\n",
    "                        \"Who defeated India in Cricket World Cup final in 2023?\",\n",
    "                        \"Name the former prime minister of Japan that was assassinated in 2022?\",\n",
    "                        \"When did Chandrayaan-3 land near the south pole of the Moon?\",\n",
    "                        \"Where did Chandrayaan-3 land on the Moon?\",\n",
    "                        \"Who acquired Twitter in 2022?\",\n",
    "                        \"Who owns Twitter?\",\n",
    "                        \"Who acquired Activision Blizzard in 2023?\"\n",
    "                   ]"
   ]
  },
  {
   "cell_type": "code",
   "execution_count": 12,
   "id": "fed35e14-c9d7-4c97-a5f3-4284f91c832a",
   "metadata": {},
   "outputs": [
    {
     "name": "stdout",
     "output_type": "stream",
     "text": [
      "\n",
      "Question: Who won the 2022 soccer world cup?\n",
      "Answer: I do not know, as the 2022 soccer world cup has not happened\n",
      "\n",
      "Question: When did Sweden join NATO?\n",
      "Answer: Sweden is not a member of NATO.\n",
      "\n",
      "Question: Who joined NATO in 2023?\n",
      "Answer: There is no information available on which countries joined NATO in 2023\n",
      "\n",
      "Question: Who joined NATO in 2024?\n",
      "Answer: It is not possible for me to answer this question as it is only 202\n",
      "\n",
      "Question: Which is the 31st member of NATO?\n",
      "Answer: I cannot answer that question as the members of NATO can change over time due to\n",
      "\n",
      "Question: Which is the 32nd member of NATO?\n",
      "Answer: The 32nd member of NATO is Montenegro.\n",
      "\n",
      "Question: Who won the Cricket World Cup in 2023?\n",
      "Answer: As the year 2023 has not yet arrived, it is not\n",
      "\n",
      "Question: Who defeated India in Cricket World Cup final in 2023?\n",
      "Answer: I do not have information on a specific match in 2023, but according\n",
      "\n",
      "Question: Name the former prime minister of Japan that was assassinated in 2022?\n",
      "Answer: There is currently no information on a former prime minister of Japan being assassinated in\n",
      "\n",
      "Question: When did Chandrayaan-3 land near the south pole of the Moon?\n",
      "Answer: Chandrayaan-3 is expected to land near the south pole of the Moon\n",
      "\n",
      "Question: Where did Chandrayaan-3 land on the Moon?\n",
      "Answer: As of now, the mission has not yet been launched and the landing site on\n",
      "\n",
      "Question: Who acquired Twitter in 2022?\n",
      "Answer: It is not possible for me to answer this question as it has not yet happened\n",
      "\n",
      "Question: Who owns Twitter?\n",
      "Answer: Twitter Inc., an American technology company, owns and operates Twitter. It was\n",
      "\n",
      "Question: Who acquired Activision Blizzard in 2023?\n",
      "Answer: A company or individual has not yet been specified as acquiring Activision Blizzard in\n"
     ]
    }
   ],
   "source": [
    "for sample_question in sample_questions:\n",
    "    print( f\"\\nQuestion: {sample_question}\" )\n",
    "    answer = openai_chatbot.find_answer_to_question_without_context( sample_question )\n",
    "    print( f\"Answer: {answer}\" )"
   ]
  },
  {
   "cell_type": "code",
   "execution_count": 13,
   "id": "fe95045b-c572-4365-b3ce-48193603635c",
   "metadata": {},
   "outputs": [
    {
     "name": "stdout",
     "output_type": "stream",
     "text": [
      "\n",
      "Question: Who won the 2022 soccer world cup?\n",
      "Answer: Argentina.\n",
      "\n",
      "Question: When did Sweden join NATO?\n",
      "Answer: March 7, 2024\n",
      "\n",
      "Question: Who joined NATO in 2023?\n",
      "Answer: Finland.\n",
      "\n",
      "Question: Who joined NATO in 2024?\n",
      "Answer: Sweden officially joined NATO.\n",
      "\n",
      "Question: Which is the 31st member of NATO?\n",
      "Answer: Finland\n",
      "\n",
      "Question: Which is the 32nd member of NATO?\n",
      "Answer: Sweden\n",
      "\n",
      "Question: Who won the Cricket World Cup in 2023?\n",
      "Answer: Australia.\n",
      "\n",
      "Question: Who defeated India in Cricket World Cup final in 2023?\n",
      "Answer: Australia.\n",
      "\n",
      "Question: Name the former prime minister of Japan that was assassinated in 2022?\n",
      "Answer: Shinzo Abe\n",
      "\n",
      "Question: When did Chandrayaan-3 land near the south pole of the Moon?\n",
      "Answer: August 23, 2023.\n",
      "\n",
      "Question: Where did Chandrayaan-3 land on the Moon?\n",
      "Answer: Near the south pole.\n",
      "\n",
      "Question: Who acquired Twitter in 2022?\n",
      "Answer: Elon Musk\n",
      "\n",
      "Question: Who owns Twitter?\n",
      "Answer: Elon Musk.\n",
      "\n",
      "Question: Who acquired Activision Blizzard in 2023?\n",
      "Answer: Microsoft\n"
     ]
    }
   ],
   "source": [
    "sim_threshold = 0.75\n",
    "\n",
    "for sample_question in sample_questions:\n",
    "    print( f\"\\nQuestion: {sample_question}\" )\n",
    "    answer = openai_chatbot.find_answer_to_question( sample_question, sim_threshold = sim_threshold)\n",
    "    print( f\"Answer: {answer}\" )"
   ]
  },
  {
   "cell_type": "code",
   "execution_count": null,
   "id": "dcc9c4ba-f692-401d-8f55-58b64c8de3f3",
   "metadata": {},
   "outputs": [],
   "source": []
  }
 ],
 "metadata": {
  "kernelspec": {
   "display_name": "Python 3 (ipykernel)",
   "language": "python",
   "name": "python3"
  },
  "language_info": {
   "codemirror_mode": {
    "name": "ipython",
    "version": 3
   },
   "file_extension": ".py",
   "mimetype": "text/x-python",
   "name": "python",
   "nbconvert_exporter": "python",
   "pygments_lexer": "ipython3",
   "version": "3.8.13"
  }
 },
 "nbformat": 4,
 "nbformat_minor": 5
}
